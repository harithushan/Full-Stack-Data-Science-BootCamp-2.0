{
 "cells": [
  {
   "cell_type": "markdown",
   "id": "6c05da75",
   "metadata": {},
   "source": [
    "1. In the below elements which of them are values or an expression? eg:- values can be integer or string and expressions will be mathematical operators.\n",
    "\n",
    "\n",
    "\n",
    "sdfdz g rdgr sfh tshrfghhhhhhhhhhhhhhhhhhfghf\n",
    "gjjhjhhhhhhhhhhhhhhhhhhhhhhhhhhhhhhhhhjhhhhhhh\n",
    "\n",
    "sdfdz g rdgr sfh tshrfghhhhhhhhhhhhhhhhhhfghf\n",
    "gjjhjhhhhhhhhhhhhhhhhhhhhhhhhhhhhhhhhhjhhhhhhh\n",
    "\n",
    "sdfdz g rdgr sfh tshrfghhhhhhhhhhhhhhhhhhfghf\n",
    "gjjhjhhhhhhhhhhhhhhhhhhhhhhhhhhhhhhhhhjhhhhhhh"
   ]
  },
  {
   "cell_type": "markdown",
   "id": "e09b70f3",
   "metadata": {},
   "source": [
    "2. What is the difference between string and variable?\n",
    "\n",
    "\n",
    "sdfdz g rdgr sfh tshrfghhhhhhhhhhhhhhhhhhfghf\n",
    "gjjhjhhhhhhhhhhhhhhhhhhhhhhhhhhhhhhhhhjhhhhhhh\n",
    "\n",
    "sdfdz g rdgr sfh tshrfghhhhhhhhhhhhhhhhhhfghf\n",
    "gjjhjhhhhhhhhhhhhhhhhhhhhhhhhhhhhhhhhhjhhhhhhh\n",
    "\n",
    "sdfdz g rdgr sfh tshrfghhhhhhhhhhhhhhhhhhfghf\n",
    "gjjhjhhhhhhhhhhhhhhhhhhhhhhhhhhhhhhhhhjhhhhhhh"
   ]
  },
  {
   "cell_type": "markdown",
   "id": "5004118b",
   "metadata": {},
   "source": [
    "3. Describe three different data types.\n",
    "\n",
    "sdfdz g rdgr sfh tshrfghhhhhhhhhhhhhhhhhhfghf\n",
    "gjjhjhhhhhhhhhhhhhhhhhhhhhhhhhhhhhhhhhjhhhhhhh\n",
    "\n",
    "sdfdz g rdgr sfh tshrfghhhhhhhhhhhhhhhhhhfghf\n",
    "gjjhjhhhhhhhhhhhhhhhhhhhhhhhhhhhhhhhhhjhhhhhhh\n",
    "\n",
    "sdfdz g rdgr sfh tshrfghhhhhhhhhhhhhhhhhhfghf\n",
    "gjjhjhhhhhhhhhhhhhhhhhhhhhhhhhhhhhhhhhjhhhhhhh\n",
    "\n"
   ]
  },
  {
   "cell_type": "code",
   "execution_count": null,
   "id": "dee07cc5",
   "metadata": {},
   "outputs": [],
   "source": []
  }
 ],
 "metadata": {
  "kernelspec": {
   "display_name": "Python 3 (ipykernel)",
   "language": "python",
   "name": "python3"
  },
  "language_info": {
   "codemirror_mode": {
    "name": "ipython",
    "version": 3
   },
   "file_extension": ".py",
   "mimetype": "text/x-python",
   "name": "python",
   "nbconvert_exporter": "python",
   "pygments_lexer": "ipython3",
   "version": "3.9.7"
  },
  "toc": {
   "base_numbering": 1,
   "nav_menu": {},
   "number_sections": true,
   "sideBar": true,
   "skip_h1_title": false,
   "title_cell": "Table of Contents",
   "title_sidebar": "Contents",
   "toc_cell": false,
   "toc_position": {},
   "toc_section_display": true,
   "toc_window_display": false
  }
 },
 "nbformat": 4,
 "nbformat_minor": 5
}
